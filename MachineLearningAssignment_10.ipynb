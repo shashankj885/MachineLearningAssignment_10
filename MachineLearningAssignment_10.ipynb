{
 "cells": [
  {
   "cell_type": "markdown",
   "id": "21ddfd0e",
   "metadata": {},
   "source": [
    "1. Define the Bayesian interpretation of probability."
   ]
  },
  {
   "cell_type": "markdown",
   "id": "7ced5a9d",
   "metadata": {},
   "source": [
    "Ans: Bayesian probability is the study of subjective probabilities or belief in an outcome, compared to the frequentist approach where probabilities are based purely on the past occurrence of the event. A Bayesian Network captures the joint probabilities of the events represented by the model."
   ]
  },
  {
   "cell_type": "markdown",
   "id": "78ebcc85",
   "metadata": {},
   "source": [
    "2. Define probability of a union of two events with equation."
   ]
  },
  {
   "cell_type": "markdown",
   "id": "68fad589",
   "metadata": {},
   "source": [
    "Ans: The general probability addition rule for the union of two events states that P(A∪B)=P(A)+P(B)−P(A∩B), where A∩B is the intersection of the two sets."
   ]
  },
  {
   "cell_type": "markdown",
   "id": "54e44f13",
   "metadata": {},
   "source": [
    "3. What is joint probability? What is its formula?"
   ]
  },
  {
   "cell_type": "markdown",
   "id": "80af403b",
   "metadata": {},
   "source": [
    "Ans: Probabilities are combined using multiplication, therefore the joint probability of independent events is calculated as the probability of event A multiplied by the probability of event B. This can be stated formally as follows:\n",
    "\n",
    "Joint Probability: P(A and B) = P(A)*P(B)"
   ]
  },
  {
   "cell_type": "markdown",
   "id": "7018b633",
   "metadata": {},
   "source": [
    "4. What is chain rule of probability?"
   ]
  },
  {
   "cell_type": "markdown",
   "id": "c7372072",
   "metadata": {},
   "source": [
    "Ans: The chain rule, or general product rule, calculates any component of the joint distribution of a set of random variables using only conditional probabilities. This probability theory is used as a foundation for backpropagation and in creating Bayesian networks."
   ]
  },
  {
   "cell_type": "markdown",
   "id": "a21840be",
   "metadata": {},
   "source": [
    "5. What is conditional probability means? What is the formula of it?"
   ]
  },
  {
   "cell_type": "markdown",
   "id": "725faad2",
   "metadata": {},
   "source": [
    "Ans: Conditional probability is defined as the likelihood of an event or outcome occurring, based on the occurrence of a previous event or outcome.\n",
    "\n",
    "Conditional probability is calculated by multiplying the probability of the preceding event by the updated probability of the succeeding, or conditional, event.\n",
    "\n",
    "Let's take a real-life example. Probability of selling a TV on a given normal day may be only 30%. But if we consider that given day is Diwali, then there are much more chances of selling a TV. The conditional Probability of selling a TV on a day given that Day is Diwali might be 70%."
   ]
  },
  {
   "cell_type": "markdown",
   "id": "7d49a6d0",
   "metadata": {},
   "source": [
    "6. What are continuous random variables?"
   ]
  },
  {
   "cell_type": "markdown",
   "id": "9727397d",
   "metadata": {},
   "source": [
    "Ans: A continuous random variable X takes all values in a given interval of numbers. ▪ The probability distribution of a continuous random variable is shown by a density curve. ▪ The probability that X is between an interval of numbers is the area under the density curve between the interval endpoints"
   ]
  },
  {
   "cell_type": "markdown",
   "id": "a26979de",
   "metadata": {},
   "source": [
    "7. What are Bernoulli distributions? What is the formula of it?"
   ]
  },
  {
   "cell_type": "markdown",
   "id": "34aee405",
   "metadata": {},
   "source": [
    "Ans: A Bernoulli distribution is a discrete probability distribution for a Bernoulli trial — a random experiment that has only two outcomes (usually called a Succes or a Failure).The expected value for a random variable, X.\n",
    "\n",
    "For a Bernoulli distribution is: E[X] = p.For example, if p = 0.04, then E[X] = 0.4"
   ]
  },
  {
   "cell_type": "markdown",
   "id": "af5b84cd",
   "metadata": {},
   "source": [
    "8. What is binomial distribution? What is the formula?"
   ]
  },
  {
   "cell_type": "markdown",
   "id": "f33237b1",
   "metadata": {},
   "source": [
    "Ans: The binomial is a type of distribution that has two possible outcomes (the prefix “bi” means two, or twice).For example, a coin toss has only two possible outcomes: heads or tails and taking a test could have two possible outcomes: pass or fail.\n",
    "\n",
    "A Binomial Distribution shows either (S)uccess or (F)ailure."
   ]
  },
  {
   "cell_type": "markdown",
   "id": "375f2f82",
   "metadata": {},
   "source": [
    "9. What is Poisson distribution? What is the formula?"
   ]
  },
  {
   "cell_type": "markdown",
   "id": "87ed16d9",
   "metadata": {},
   "source": [
    "Ans: A Poisson distribution is defined as a discrete frequency distribution that gives the probability of the number of independent events that occur in the fixed time.\n",
    "\n",
    "In statistics, a Poisson distribution is a probability distribution that is used to show how many times an event is likely to occur over a specified period. ... The Poisson distribution is a discrete function, meaning that the variable can only take specific values in a (potentially infinite) list."
   ]
  },
  {
   "cell_type": "markdown",
   "id": "77728f26",
   "metadata": {},
   "source": [
    "10. Define covariance."
   ]
  },
  {
   "cell_type": "markdown",
   "id": "ecf3e9a5",
   "metadata": {},
   "source": [
    "Ans: Covariance is a measure of how much two random variables vary together. It's similar to variance, but where variance tells you how a single variable varies, co variance tells you how two variables vary together."
   ]
  },
  {
   "cell_type": "markdown",
   "id": "1d7cc707",
   "metadata": {},
   "source": [
    "11. Define correlation"
   ]
  },
  {
   "cell_type": "markdown",
   "id": "00bae92f",
   "metadata": {},
   "source": [
    "Ans: Correlation explains how one or more variables are related to each other. These variables can be input data features which have been used to forecast our target variable. It's a bi-variate analysis measure which describes the association between different variables."
   ]
  },
  {
   "cell_type": "markdown",
   "id": "ea9f95ad",
   "metadata": {},
   "source": [
    "12. Define sampling with replacement. Give example."
   ]
  },
  {
   "cell_type": "markdown",
   "id": "4ecbc342",
   "metadata": {},
   "source": [
    "Ans: If you sample with replacement, you would choose one person's name, put that person's name back in the hat, and then choose another name. The possibilities for your two-name sample are: John, John. John, Jack."
   ]
  },
  {
   "cell_type": "markdown",
   "id": "cb5c9215",
   "metadata": {},
   "source": [
    "13. What is sampling without replacement? Give example."
   ]
  },
  {
   "cell_type": "markdown",
   "id": "88103fb4",
   "metadata": {},
   "source": [
    "Ans: In sampling without replacement, each sample unit of the population has only one chance to be selected in the sample. For example, if one draws a simple random sample such that no unit occurs more than one time in the sample, the sample is drawn without replacement."
   ]
  },
  {
   "cell_type": "markdown",
   "id": "cd48fe39",
   "metadata": {},
   "source": [
    "14. What is hypothesis? Give example."
   ]
  },
  {
   "cell_type": "markdown",
   "id": "3468fc00",
   "metadata": {},
   "source": [
    "Ans: A hypothesis (plural hypotheses) is a proposed explanation for a phenomenon. For a hypothesis to be a scientific hypothesis, the scientific method requires that one can test it. ... Even though the words \"hypothesis\" and \"theory\" are often used synonymously, a scientific hypothesis is not the same as a scientific theory.\n",
    "\n",
    "Examples of hypothesis statements: If garlic repels fleas, then a dog that is given garlic every day will not get fleas. Bacterial growth may be affected by moisture levels in the air. If sugar causes cavities, then people who eat a lot of candy may be more prone to cavities."
   ]
  }
 ],
 "metadata": {
  "kernelspec": {
   "display_name": "Python 3 (ipykernel)",
   "language": "python",
   "name": "python3"
  },
  "language_info": {
   "codemirror_mode": {
    "name": "ipython",
    "version": 3
   },
   "file_extension": ".py",
   "mimetype": "text/x-python",
   "name": "python",
   "nbconvert_exporter": "python",
   "pygments_lexer": "ipython3",
   "version": "3.9.13"
  }
 },
 "nbformat": 4,
 "nbformat_minor": 5
}
